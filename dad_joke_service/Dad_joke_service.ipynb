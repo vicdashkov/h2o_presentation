{
 "cells": [
  {
   "cell_type": "code",
   "execution_count": 2,
   "metadata": {},
   "outputs": [
    {
     "name": "stdout",
     "output_type": "stream",
     "text": [
      "Checking whether there is an H2O instance running at http://localhost:54321. connected.\n"
     ]
    },
    {
     "data": {
      "text/html": [
       "<div style=\"overflow:auto\"><table style=\"width:50%\"><tr><td>H2O cluster uptime:</td>\n",
       "<td>15 secs</td></tr>\n",
       "<tr><td>H2O cluster version:</td>\n",
       "<td>3.16.0.4</td></tr>\n",
       "<tr><td>H2O cluster version age:</td>\n",
       "<td>1 month and 2 days </td></tr>\n",
       "<tr><td>H2O cluster name:</td>\n",
       "<td>root</td></tr>\n",
       "<tr><td>H2O cluster total nodes:</td>\n",
       "<td>1</td></tr>\n",
       "<tr><td>H2O cluster free memory:</td>\n",
       "<td>3.544 Gb</td></tr>\n",
       "<tr><td>H2O cluster total cores:</td>\n",
       "<td>2</td></tr>\n",
       "<tr><td>H2O cluster allowed cores:</td>\n",
       "<td>2</td></tr>\n",
       "<tr><td>H2O cluster status:</td>\n",
       "<td>locked, healthy</td></tr>\n",
       "<tr><td>H2O connection url:</td>\n",
       "<td>http://localhost:54321</td></tr>\n",
       "<tr><td>H2O connection proxy:</td>\n",
       "<td>None</td></tr>\n",
       "<tr><td>H2O internal security:</td>\n",
       "<td>False</td></tr>\n",
       "<tr><td>H2O API Extensions:</td>\n",
       "<td>XGBoost, Algos, AutoML, Core V3, Core V4</td></tr>\n",
       "<tr><td>Python version:</td>\n",
       "<td>3.6.3 final</td></tr></table></div>"
      ],
      "text/plain": [
       "--------------------------  ----------------------------------------\n",
       "H2O cluster uptime:         15 secs\n",
       "H2O cluster version:        3.16.0.4\n",
       "H2O cluster version age:    1 month and 2 days\n",
       "H2O cluster name:           root\n",
       "H2O cluster total nodes:    1\n",
       "H2O cluster free memory:    3.544 Gb\n",
       "H2O cluster total cores:    2\n",
       "H2O cluster allowed cores:  2\n",
       "H2O cluster status:         locked, healthy\n",
       "H2O connection url:         http://localhost:54321\n",
       "H2O connection proxy:\n",
       "H2O internal security:      False\n",
       "H2O API Extensions:         XGBoost, Algos, AutoML, Core V3, Core V4\n",
       "Python version:             3.6.3 final\n",
       "--------------------------  ----------------------------------------"
      ]
     },
     "metadata": {},
     "output_type": "display_data"
    }
   ],
   "source": [
    "import h2o\n",
    "h2o.init()"
   ]
  },
  {
   "cell_type": "code",
   "execution_count": 16,
   "metadata": {},
   "outputs": [
    {
     "name": "stdout",
     "output_type": "stream",
     "text": [
      "Parse progress: |█████████████████████████████████████████████████████████| 100%\n"
     ]
    }
   ],
   "source": [
    "docker_data_path = \"/volume_data_files/very_clean_jokes.csv\"\n",
    "jokes = h2o.import_file(docker_data_path)"
   ]
  },
  {
   "cell_type": "code",
   "execution_count": null,
   "metadata": {
    "collapsed": true
   },
   "outputs": [],
   "source": []
  },
  {
   "cell_type": "code",
   "execution_count": null,
   "metadata": {
    "collapsed": true
   },
   "outputs": [],
   "source": []
  },
  {
   "cell_type": "code",
   "execution_count": 17,
   "metadata": {},
   "outputs": [
    {
     "data": {
      "text/html": [
       "<table>\n",
       "<thead>\n",
       "<tr><th style=\"text-align: right;\">  is_dad_joke</th><th>dad_joke                                                                                                                                                                                                                                                                                                                                                                                                                                                                                                                                                                                                                                                                                                                                                                                                                                                                                                                                                                                                                                                                                                                                                   </th></tr>\n",
       "</thead>\n",
       "<tbody>\n",
       "<tr><td style=\"text-align: right;\">            0</td><td>A woman walks into a dry cleaner... and says \"\"I've got another dress for you\"\"The man behind the counter, whose a little hard of hearing, reply \"\"come again?\"\"The woman responds with \"\"No this time its mus                                                                                                                                                                                                                                                                                                                                                                                                                                                                                                                                                                                                                                                                                                                                                                                                                                                                                                                                             </td></tr>\n",
       "<tr><td style=\"text-align: right;\">            0</td><td>2 Guys in a Bar 2 guys in a bar. John: \"\"I have sex with my wife once a month\"\" Jack: \"\"We do it twice a week\"\" John: \"\"But Jack, you're not even married!\"\" Jack: \"\"Oh, I thought we were talking about you                                                                                                                                                                                                                                                                                                                                                                                                                                                                                                                                                                                                                                                                                                                                                                                                                                                                                                                                               </td></tr>\n",
       "<tr><td style=\"text-align: right;\">            0</td><td>To all new iPad owners.  When you masturbate in front of your new device, make sure to put some porn on its screen to avoid embarrassment.                                                                                                                                                                                                                                                                                                                                                                                                                                                                                                                                                                                                                                                                                                                                                                                                                                                                                                                                                                                                                 </td></tr>\n",
       "<tr><td style=\"text-align: right;\">            0</td><td>Why do redditors have so many inside jokes? Because we're too afraid to go outside                                                                                                                                                                                                                                                                                                                                                                                                                                                                                                                                                                                                                                                                                                                                                                                                                                                                                                                                                                                                                                                                         </td></tr>\n",
       "<tr><td style=\"text-align: right;\">            0</td><td>Want to know how to annoy someone who has OCD?                                                                                                                                                                                                                                                                                                                                                                                                                                                                                                                                                                                                                                                                                                                                                                                                                                                                                                                                                                                                                                                                                                             </td></tr>\n",
       "<tr><td style=\"text-align: right;\">            0</td><td>My wife told me a joke that I actually laughed at. A women was in bed with her husbands best friend when suddenly the phone rings.  She answered the phone and said to the person have a wonderful time and hung up.  The man asks her who was it and she replied that it was her husband, he said that he was at a bar with you.                                                                                                                                                                                                                                                                                                                                                                                                                                                                                                                                                                                                                                                                                                                                                                                                                          </td></tr>\n",
       "<tr><td style=\"text-align: right;\">            0</td><td>I once knew a soldier who suffered through both mustard gas and pepper spray. He was a seasoned veteran.                                                                                                                                                                                                                                                                                                                                                                                                                                                                                                                                                                                                                                                                                                                                                                                                                                                                                                                                                                                                                                                   </td></tr>\n",
       "<tr><td style=\"text-align: right;\">            0</td><td>Golf with the boss A man and his boss skip work one weekday afternoon for a round of golf.  They tee off at 1:00 and after 2 holes they catch up to a twosome of women.  The women are playing unbearably slowly.After waiting nearly an hour to play a hole, the men discuss how to get around these slow-playing women.  They try yelling to them, to no avail.When the men reach the 4th tee, a par 3, they wait another 30 minutes while one of the girls takes 10 shots to get out of a sand trap.  The boss says to his subordinate, \"\"I'm going to take a ride up there in the cart and ask if we can play through.\"\"The boss gets about 50 yards from the green and abruptly turns around and drives back to the tee.  The subordinate asks, \"\"What happened?  Why didn't you say anything to them?\"\"The boss says, \"\"I got about 50-60 yards away, and I could tell that the two women were my wife and my mistress.\"\"The subordinate says, \"\"We ain't got all day.  Let me go talk with them.\"\"  So he drives up, gets about 50 yards away, and abruptly turns around.When he gets back to the tee, he says, \"\"Unbelievable.  What a fucking coin</td></tr>\n",
       "<tr><td style=\"text-align: right;\">            0</td><td>What would it be like to have world with out women?? It would be a real pain in the ass                                                                                                                                                                                                                                                                                                                                                                                                                                                                                                                                                                                                                                                                                                                                                                                                                                                                                                                                                                                                                                                                    </td></tr>\n",
       "<tr><td style=\"text-align: right;\">            0</td><td>Old sex life. An elderly woman goes to the doctor and asks his help to revive her Husband's sex drive.'What about trying Viagra?' asks the doctor.Not a chance' says Mrs. Murphy. \"\"He won't even take an aspirin for a headache.\"\"'No problem,' replies the doctor. 'Drop it into his coffee,he won't even taste it. Try it and come back in a week to let me know how you got on.'A week later Mrs. Murphy returns to the doctor and he inquires as to how things went.'Oh it was terrible, just terrible doctor.'What happened?' asks the doctor.'Well I did as you advised and slipped it in his coffee. The effect was immediate. He jumped straight up, swept the cutlery off the table, at the same time ripping my clothes off and then proceeded tomake wild passionate love to me on the tabletop. It was terrible!'What was terrible?' said the doctor, 'Was the sex not good?''Oh no doctor, the sex was the best I've had in 25 years...but I'll never be able to show my face in McDonald's again                                                                                                                                            </td></tr>\n",
       "</tbody>\n",
       "</table>"
      ]
     },
     "metadata": {},
     "output_type": "display_data"
    },
    {
     "data": {
      "text/plain": []
     },
     "execution_count": 17,
     "metadata": {},
     "output_type": "execute_result"
    }
   ],
   "source": [
    "jokes.tail()"
   ]
  },
  {
   "cell_type": "code",
   "execution_count": 18,
   "metadata": {},
   "outputs": [
    {
     "data": {
      "text/html": [
       "<table>\n",
       "<thead>\n",
       "<tr><th style=\"text-align: right;\">  is_dad_joke</th><th>dad_joke                                                                                                                                                                                                                                                                                                                                                                                                                                                                                                                                                                                                                                                                                                                                                                                                                                                                                                                                                                                                                                                                                                                                                   </th></tr>\n",
       "</thead>\n",
       "<tbody>\n",
       "<tr><td style=\"text-align: right;\">            0</td><td>A woman walks into a dry cleaner... and says \"\"I've got another dress for you\"\"The man behind the counter, whose a little hard of hearing, reply \"\"come again?\"\"The woman responds with \"\"No this time its mus                                                                                                                                                                                                                                                                                                                                                                                                                                                                                                                                                                                                                                                                                                                                                                                                                                                                                                                                             </td></tr>\n",
       "<tr><td style=\"text-align: right;\">            0</td><td>2 Guys in a Bar 2 guys in a bar. John: \"\"I have sex with my wife once a month\"\" Jack: \"\"We do it twice a week\"\" John: \"\"But Jack, you're not even married!\"\" Jack: \"\"Oh, I thought we were talking about you                                                                                                                                                                                                                                                                                                                                                                                                                                                                                                                                                                                                                                                                                                                                                                                                                                                                                                                                               </td></tr>\n",
       "<tr><td style=\"text-align: right;\">            0</td><td>To all new iPad owners.  When you masturbate in front of your new device, make sure to put some porn on its screen to avoid embarrassment.                                                                                                                                                                                                                                                                                                                                                                                                                                                                                                                                                                                                                                                                                                                                                                                                                                                                                                                                                                                                                 </td></tr>\n",
       "<tr><td style=\"text-align: right;\">            0</td><td>Why do redditors have so many inside jokes? Because we're too afraid to go outside                                                                                                                                                                                                                                                                                                                                                                                                                                                                                                                                                                                                                                                                                                                                                                                                                                                                                                                                                                                                                                                                         </td></tr>\n",
       "<tr><td style=\"text-align: right;\">            0</td><td>Want to know how to annoy someone who has OCD?                                                                                                                                                                                                                                                                                                                                                                                                                                                                                                                                                                                                                                                                                                                                                                                                                                                                                                                                                                                                                                                                                                             </td></tr>\n",
       "<tr><td style=\"text-align: right;\">            0</td><td>My wife told me a joke that I actually laughed at. A women was in bed with her husbands best friend when suddenly the phone rings.  She answered the phone and said to the person have a wonderful time and hung up.  The man asks her who was it and she replied that it was her husband, he said that he was at a bar with you.                                                                                                                                                                                                                                                                                                                                                                                                                                                                                                                                                                                                                                                                                                                                                                                                                          </td></tr>\n",
       "<tr><td style=\"text-align: right;\">            0</td><td>I once knew a soldier who suffered through both mustard gas and pepper spray. He was a seasoned veteran.                                                                                                                                                                                                                                                                                                                                                                                                                                                                                                                                                                                                                                                                                                                                                                                                                                                                                                                                                                                                                                                   </td></tr>\n",
       "<tr><td style=\"text-align: right;\">            0</td><td>Golf with the boss A man and his boss skip work one weekday afternoon for a round of golf.  They tee off at 1:00 and after 2 holes they catch up to a twosome of women.  The women are playing unbearably slowly.After waiting nearly an hour to play a hole, the men discuss how to get around these slow-playing women.  They try yelling to them, to no avail.When the men reach the 4th tee, a par 3, they wait another 30 minutes while one of the girls takes 10 shots to get out of a sand trap.  The boss says to his subordinate, \"\"I'm going to take a ride up there in the cart and ask if we can play through.\"\"The boss gets about 50 yards from the green and abruptly turns around and drives back to the tee.  The subordinate asks, \"\"What happened?  Why didn't you say anything to them?\"\"The boss says, \"\"I got about 50-60 yards away, and I could tell that the two women were my wife and my mistress.\"\"The subordinate says, \"\"We ain't got all day.  Let me go talk with them.\"\"  So he drives up, gets about 50 yards away, and abruptly turns around.When he gets back to the tee, he says, \"\"Unbelievable.  What a fucking coin</td></tr>\n",
       "<tr><td style=\"text-align: right;\">            0</td><td>What would it be like to have world with out women?? It would be a real pain in the ass                                                                                                                                                                                                                                                                                                                                                                                                                                                                                                                                                                                                                                                                                                                                                                                                                                                                                                                                                                                                                                                                    </td></tr>\n",
       "<tr><td style=\"text-align: right;\">            0</td><td>Old sex life. An elderly woman goes to the doctor and asks his help to revive her Husband's sex drive.'What about trying Viagra?' asks the doctor.Not a chance' says Mrs. Murphy. \"\"He won't even take an aspirin for a headache.\"\"'No problem,' replies the doctor. 'Drop it into his coffee,he won't even taste it. Try it and come back in a week to let me know how you got on.'A week later Mrs. Murphy returns to the doctor and he inquires as to how things went.'Oh it was terrible, just terrible doctor.'What happened?' asks the doctor.'Well I did as you advised and slipped it in his coffee. The effect was immediate. He jumped straight up, swept the cutlery off the table, at the same time ripping my clothes off and then proceeded tomake wild passionate love to me on the tabletop. It was terrible!'What was terrible?' said the doctor, 'Was the sex not good?''Oh no doctor, the sex was the best I've had in 25 years...but I'll never be able to show my face in McDonald's again                                                                                                                                            </td></tr>\n",
       "</tbody>\n",
       "</table>"
      ]
     },
     "metadata": {},
     "output_type": "display_data"
    },
    {
     "data": {
      "text/plain": []
     },
     "execution_count": 18,
     "metadata": {},
     "output_type": "execute_result"
    }
   ],
   "source": [
    "jokes.tail()"
   ]
  },
  {
   "cell_type": "code",
   "execution_count": null,
   "metadata": {
    "collapsed": true
   },
   "outputs": [],
   "source": []
  }
 ],
 "metadata": {
  "kernelspec": {
   "display_name": "Python 3",
   "language": "python",
   "name": "python3"
  },
  "language_info": {
   "codemirror_mode": {
    "name": "ipython",
    "version": 3
   },
   "file_extension": ".py",
   "mimetype": "text/x-python",
   "name": "python",
   "nbconvert_exporter": "python",
   "pygments_lexer": "ipython3",
   "version": "3.6.3"
  }
 },
 "nbformat": 4,
 "nbformat_minor": 2
}
